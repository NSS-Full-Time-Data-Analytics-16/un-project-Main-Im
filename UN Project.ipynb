{
 "cells": [
  {
   "cell_type": "markdown",
   "id": "6263f889-8de3-474b-8a8f-a41979b1f453",
   "metadata": {},
   "source": [
    "## #3 done"
   ]
  },
  {
   "cell_type": "code",
   "execution_count": null,
   "id": "e143a789-7768-4817-95a0-646b99304fc2",
   "metadata": {},
   "outputs": [],
   "source": [
    "import pandas as pd\n",
    "import numpy as np\n",
    "import matplotlib.pyplot as plt\n",
    "import seaborne as sns"
   ]
  },
  {
   "cell_type": "markdown",
   "id": "9661b710-50fd-4cc6-9c91-352d77481ed7",
   "metadata": {},
   "source": [
    "## #4"
   ]
  },
  {
   "cell_type": "code",
   "execution_count": 2,
   "id": "85645ff9-aa56-4605-82fe-bfa08a733c08",
   "metadata": {},
   "outputs": [
    {
     "ename": "SyntaxError",
     "evalue": "(unicode error) 'unicodeescape' codec can't decode bytes in position 2-3: truncated \\UXXXXXXXX escape (2405953695.py, line 1)",
     "output_type": "error",
     "traceback": [
      "\u001b[1;36m  Cell \u001b[1;32mIn[2], line 1\u001b[1;36m\u001b[0m\n\u001b[1;33m    gdp_df=pd.read_csv('C:\\Users\\Andrew\\Documents\\NSS\\python\\projects\\un-project-Main-Im\\data\\gdp_df.csv')\u001b[0m\n\u001b[1;37m                       ^\u001b[0m\n\u001b[1;31mSyntaxError\u001b[0m\u001b[1;31m:\u001b[0m (unicode error) 'unicodeescape' codec can't decode bytes in position 2-3: truncated \\UXXXXXXXX escape\n"
     ]
    }
   ],
   "source": [
    "gdp_df=pd.read_csv('C:\\Users\\Andrew\\Documents\\NSS\\python\\projects\\un-project-Main-Im\\data\\gdp_df.csv')\n"
   ]
  },
  {
   "cell_type": "code",
   "execution_count": null,
   "id": "5057999e-6557-45a8-b662-d3d7e5c4a070",
   "metadata": {},
   "outputs": [],
   "source": []
  }
 ],
 "metadata": {
  "kernelspec": {
   "display_name": "Python [conda env:base] *",
   "language": "python",
   "name": "conda-base-py"
  },
  "language_info": {
   "codemirror_mode": {
    "name": "ipython",
    "version": 3
   },
   "file_extension": ".py",
   "mimetype": "text/x-python",
   "name": "python",
   "nbconvert_exporter": "python",
   "pygments_lexer": "ipython3",
   "version": "3.13.5"
  }
 },
 "nbformat": 4,
 "nbformat_minor": 5
}
